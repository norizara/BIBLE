{
 "cells": [
  {
   "cell_type": "code",
   "execution_count": 2,
   "id": "fc4bef26",
   "metadata": {},
   "outputs": [],
   "source": [
    "import numpy as np\n",
    "import matplotlib.pyplot as plt"
   ]
  },
  {
   "cell_type": "markdown",
   "id": "2ff32179",
   "metadata": {},
   "source": [
    "# Linear Equation using Gauss Seidel"
   ]
  },
  {
   "cell_type": "code",
   "execution_count": 3,
   "id": "e7353d24",
   "metadata": {},
   "outputs": [
    {
     "name": "stdout",
     "output_type": "stream",
     "text": [
      "Matrix #1\n",
      "Iteration 1\n",
      "Difference: 2.190969470855818\n",
      "Not Converged\n",
      "Iteration 2\n",
      "Difference: 0.9163049054675799\n",
      "Not Converged\n",
      "Iteration 3\n",
      "Difference: 0.22975703161001523\n",
      "Not Converged\n",
      "Iteration 4\n",
      "Difference: 0.06865429955384911\n",
      "Not Converged\n",
      "Iteration 5\n",
      "Difference: 0.029907537811802946\n",
      "Converged\n",
      "\n",
      "Matrix #2\n",
      "Iteration 1\n",
      "Difference: 2.473729961711542\n",
      "Not Converged\n",
      "Iteration 2\n",
      "Difference: 1.1762597197414264\n",
      "Not Converged\n",
      "Iteration 3\n",
      "Difference: 0.2722328425469943\n",
      "Not Converged\n",
      "Iteration 4\n",
      "Difference: 0.12232423662530427\n",
      "Not Converged\n",
      "Iteration 5\n",
      "Difference: 0.034189089310782864\n",
      "Not Converged\n",
      "Iteration 6\n",
      "Difference: 0.012455920767948117\n",
      "Converged\n",
      "\n",
      "Matrix #3\n",
      "Error: Not Dominant\n",
      "\n",
      "Matrix #4\n",
      "Iteration 1\n",
      "Difference: 0.5340002340823456\n",
      "Not Converged\n",
      "Iteration 2\n",
      "Difference: 0.02950268436444472\n",
      "Converged\n",
      "\n",
      "Matrix #5\n",
      "Error: Not Dominant\n",
      "\n"
     ]
    }
   ],
   "source": [
    "x = [\n",
    "    [\n",
    "        [8, 4, 2],\n",
    "        [1, 6, 3],\n",
    "        [5, 6, 12]\n",
    "    ],\n",
    "    [\n",
    "        [12, -7, -1],\n",
    "        [1, -7, 2],\n",
    "        [8, -1, 12]\n",
    "    ],\n",
    "    [\n",
    "        [4, 2, 7],\n",
    "        [3, -7, 5],\n",
    "        [2, -1, 3]\n",
    "    ],\n",
    "    [   \n",
    "        [14, 2, 1],\n",
    "        [1, 8, 4],\n",
    "        [9, 8, 18]\n",
    "    ],\n",
    "    [   \n",
    "        [1, 3, 6],\n",
    "        [9, 1, 12],\n",
    "        [15, 18, 1]\n",
    "    ]\n",
    "]\n",
    "y = [\n",
    "    [10, 12, 15],\n",
    "    [21, 12, 4],\n",
    "    [8, 4, 5],\n",
    "    [7, 2, 6],\n",
    "    [4, 7, 6]\n",
    "]\n",
    "\n",
    "def diagonal_dominant(x):\n",
    "    x = np.array(x)\n",
    "    diag = np.diag(np.abs(x))\n",
    "    off_diag = np.sum(np.abs(x), axis = 1) - diag\n",
    "    result = np.all(diag > off_diag)\n",
    "    return result\n",
    "\n",
    "def gauss_seidel(x, y, tol = 0.032, max_iter = 20):\n",
    "    if not diagonal_dominant(x):\n",
    "        print(\"Error: Not Dominant\")\n",
    "        return\n",
    "    \n",
    "    x = np.array(x)\n",
    "    y = np.array(y)\n",
    "\n",
    "    diag = np.diag(x)\n",
    "    x = -x\n",
    "    np.fill_diagonal(x, 0)\n",
    "\n",
    "    old_res = np.zeros(len(x[0]))\n",
    "\n",
    "    for i in range(max_iter):\n",
    "        new_res = np.array(old_res)\n",
    "\n",
    "        for idx, row in enumerate(x):\n",
    "            new_res[idx] = (y[idx] + np.dot(row, new_res)) / diag[idx]\n",
    "\n",
    "        print(f\"Iteration {i+1}\")\n",
    "\n",
    "        difference = np.sqrt(np.dot(old_res - new_res, old_res - new_res))\n",
    "        print(f\"Difference: {difference}\")\n",
    "\n",
    "        if difference < tol:\n",
    "            print(\"Converged\")\n",
    "            return new_res\n",
    "        else:\n",
    "            print(\"Not Converged\")\n",
    "        \n",
    "        old_res = new_res\n",
    "\n",
    "for i in range(len(x)):\n",
    "    print(f\"Matrix #{i+1}\")\n",
    "    gauss_seidel(x[i], y[i])\n",
    "    print(\"\")"
   ]
  },
  {
   "cell_type": "markdown",
   "id": "9b2db39b",
   "metadata": {},
   "source": [
    "# Regression and plotting"
   ]
  },
  {
   "cell_type": "code",
   "execution_count": 11,
   "id": "68e98a77",
   "metadata": {},
   "outputs": [
    {
     "name": "stdout",
     "output_type": "stream",
     "text": [
      "[ 1.    1.39  1.78  2.16  2.55  2.94  3.33  3.71  4.1   4.49  4.88  5.27\n",
      "  5.65  6.04  6.43  6.82  7.2   7.59  7.98  8.37  8.76  9.14  9.53  9.92\n",
      " 10.31 10.69 11.08 11.47 11.86 12.24 12.63 13.02 13.41 13.8  14.18 14.57\n",
      " 14.96 15.35 15.73 16.12 16.51 16.9  17.29 17.67 18.06 18.45 18.84 19.22\n",
      " 19.61 20.  ]\n",
      "[[0.48639923]\n",
      " [4.95520808]]\n"
     ]
    },
    {
     "data": {
      "text/plain": [
       "<function matplotlib.pyplot.show(close=None, block=None)>"
      ]
     },
     "execution_count": 11,
     "metadata": {},
     "output_type": "execute_result"
    },
    {
     "data": {
      "image/png": "[encoded data removed]",
      "text/plain": [
       "<Figure size 640x480 with 1 Axes>"
      ]
     },
     "metadata": {},
     "output_type": "display_data"
    }
   ],
   "source": [
    "x = [1.00, 1.39, 1.78, 2.16, 2.55, 2.94, 3.33, 3.71, 4.10, 4.49, 4.88, 5.27, 5.65, 6.04, 6.43, 6.82, 7.20, 7.59, 7.98, 8.37, 8.76, 9.14, 9.53, 9.92, 10.31, 10.69, 11.08, 11.47, 11.86, 12.24, 12.63, 13.02, 13.41, 13.80, 14.18, 14.57, 14.96, 15.35, 15.73, 16.12, 16.51, 16.90, 17.29, 17.67, 18.06, 18.45, 18.84, 19.22, 19.61, 20.00]\n",
    "\n",
    "y = [5.97, 5.95, 6.13, 6.41, 6.57, 6.30, 5.31, 6.90, 7.30, 7.22, 6.15, 7.77, 7.84, 8.24, 7.05, 8.61, 8.83, 8.87, 8.67, 9.63, 8.24, 8.76, 9.06, 8.80, 10.88, 10.83, 9.71, 10.63, 11.33, 10.61, 12.04, 10.51, 12.20, 11.40, 11.07, 11.50, 12.98, 12.56, 12.44, 12.57, 12.36, 13.32, 14.22, 14.01, 14.42, 13.48, 15.14, 13.92, 13.97, 14.44]\n",
    "\n",
    "\n",
    "x = np.array(x)\n",
    "y = np.array(y)\n",
    "\n",
    "A = np.vstack([x, np.ones(len(x))]).T\n",
    "Y = y[:, np.newaxis]\n",
    "\n",
    "alpha = np.linalg.inv(np.dot(A.T, A))\n",
    "alpha = np.dot(alpha, A.T)\n",
    "alpha = np.dot(alpha, Y)\n",
    "\n",
    "print(x)\n",
    "print(alpha)\n",
    "\n",
    "plt.plot(x, y, \"ro\")\n",
    "plt.plot(x, alpha[0] * x + alpha[1], \"b-\")\n",
    "plt.title(\"Least Square Regression\")\n",
    "plt.legend([\"Data Points\", \"Fitted Line\"], loc=\"lower right\")\n",
    "plt.show\n",
    "\n"
   ]
  },
  {
   "cell_type": "markdown",
   "id": "1d3a8d32",
   "metadata": {},
   "source": [
    "# Newton Raphson"
   ]
  },
  {
   "cell_type": "code",
   "execution_count": 5,
   "id": "23f056c6",
   "metadata": {},
   "outputs": [
    {
     "name": "stdout",
     "output_type": "stream",
     "text": [
      "Iteration #1 : 4.055760047751691\n",
      "Iteration #2 : 3.2995992993701333\n",
      "Iteration #3 : 2.691142040353687\n",
      "Iteration #4 : 2.1941206124780868\n",
      "Iteration #5 : 1.7693673505975802\n",
      "Iteration #6 : 1.3536896666513434\n",
      "Iteration #7 : 0.7335064821901164\n",
      "Iteration #8 : -1.3942760169601534\n",
      "Iteration #9 : -1.1029655134470373\n",
      "Iteration #10 : -0.9073243206569388\n",
      "Iteration #11 : -0.815342818303601\n",
      "Iteration #12 : -0.7972383775051456\n",
      "Found root at -0.7972383775051456\n"
     ]
    }
   ],
   "source": [
    "def f(x):\n",
    "    return 8*(x**5) - 10*(x**4) + (x**3) + 2*(x**2) + 9*x + 13\n",
    "\n",
    "def g(x):\n",
    "    return 40*(x**4) - 40*(x**3) + 3*(x**2) + 4*x + 9\n",
    "\n",
    "def newton_raphson(x, tol = 0.031, max_iter = 50):\n",
    "    found = False\n",
    "    for i in range(max_iter):\n",
    "        x = x - (f(x)/g(x))\n",
    "\n",
    "        print(f\"Iteration #{i+1} : {x}\")\n",
    "        if np.abs(f(x)) < tol:\n",
    "            print(f\"Found root at {x}\")\n",
    "            found = True\n",
    "            return\n",
    "    \n",
    "    if found == False:\n",
    "        print(\"error\")\n",
    "        return\n",
    "    \n",
    "newton_raphson(5)"
   ]
  },
  {
   "cell_type": "markdown",
   "id": "88b3df8f",
   "metadata": {},
   "source": [
    "# Riemann"
   ]
  },
  {
   "cell_type": "code",
   "execution_count": 6,
   "id": "39291a74",
   "metadata": {},
   "outputs": [
    {
     "name": "stdout",
     "output_type": "stream",
     "text": [
      "[ 5.          5.00016667  5.00033334 ... 14.99966666 14.99983333\n",
      " 15.        ]\n",
      "Right Riemann: 5553895.890413146, Mid Riemann: 5553739.999425837\n"
     ]
    }
   ],
   "source": [
    "def f(x):\n",
    "    return 40*(x**4) - 40*(x**3) + 3*(x**2) + 4*x + 9\n",
    "\n",
    "a = 5\n",
    "b = 15\n",
    "points = 60000\n",
    "width = (b-a) / (points - 1)\n",
    "x = np.linspace(a, b, points)\n",
    "\n",
    "print(x)\n",
    "\n",
    "rightRiemann = width * np.sum(f(x[1:]))\n",
    "mid = (x[:-1] + x[1:]) / 2\n",
    "midRiemann = width * np.sum(f(mid))\n",
    "\n",
    "print(f\"Right Riemann: {rightRiemann}, Mid Riemann: {midRiemann}\")"
   ]
  }
 ],
 "metadata": {
  "kernelspec": {
   "display_name": "Python 3",
   "language": "python",
   "name": "python3"
  },
  "language_info": {
   "codemirror_mode": {
    "name": "ipython",
    "version": 3
   },
   "file_extension": ".py",
   "mimetype": "text/x-python",
   "name": "python",
   "nbconvert_exporter": "python",
   "pygments_lexer": "ipython3",
   "version": "3.12.4"
  }
 },
 "nbformat": 4,
 "nbformat_minor": 5
}
