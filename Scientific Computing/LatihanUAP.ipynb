{
 "cells": [
  {
   "cell_type": "code",
   "execution_count": 1,
   "metadata": {},
   "outputs": [],
   "source": [
    "import numpy as np\n",
    "import matplotlib.pyplot as plt"
   ]
  },
  {
   "cell_type": "markdown",
   "metadata": {},
   "source": [
    "Latihan UAP Scientif Computing"
   ]
  },
  {
   "cell_type": "markdown",
   "metadata": {},
   "source": [
    "# 1 Linear Equation"
   ]
  },
  {
   "cell_type": "markdown",
   "metadata": {},
   "source": [
    "### No 1. Linear Equation\n",
    "\n",
    "Diketahui sistem persamaan linear berikut:\n",
    "\n",
    "$\\begin{cases}\n",
    "10a + b + c = 12 \\\\\n",
    "2a - 10b + c = 13 \\\\\n",
    "2a + 2b + 5c = 14\n",
    "\\end{cases}$\n",
    "\n",
    "Gunakan metode **Gauss-Seidel** untuk menentukan nilai dari \\(a\\), \\(b\\), dan \\(c\\) dengan toleransi \\(ε = 0.001\\), dengan tebakan awal a = 0, b = 0, c = 0, dan iterasi maksimal sebanyak 30 kali \n"
   ]
  },
  {
   "cell_type": "code",
   "execution_count": 7,
   "metadata": {},
   "outputs": [
    {
     "name": "stdout",
     "output_type": "stream",
     "text": [
      "iteration 1 : [ 1.2   -1.06   2.744]\n",
      "iteration 2 : [ 1.0316   -0.81928   2.715072]\n",
      "iteration 3 : [ 1.0104208  -0.82640864  2.72639514]\n",
      "iteration 4 : [ 1.01000135 -0.82536022  2.72614355]\n",
      "iteration 5 : [ 1.00992167 -0.82540131  2.72619186]\n",
      "Converge\n"
     ]
    },
    {
     "data": {
      "text/plain": [
       "array([ 1.00992167, -0.82540131,  2.72619186])"
      ]
     },
     "execution_count": 7,
     "metadata": {},
     "output_type": "execute_result"
    }
   ],
   "source": [
    "Xs = [\n",
    "  [10, 1, 1],\n",
    "  [2, -10, 1],\n",
    "  [2, 2, 5]\n",
    "]\n",
    "Ys = [12, 13, 14]\n",
    "\n",
    "# bikin Diagonal dominant dulu\n",
    "# bikin x = array(x), bikin diagonal = diag(abs.x), off_diag = sum(abs.x, axis = 1) - diag, result = all(diag > offDiag) reutrn result\n",
    "def diagonal_dominant(x):\n",
    "    x = np.array(x) \n",
    "    diag = np.diag(np.abs(x)) \n",
    "    off_diag = np.sum(np.abs(x), axis = 1) - diag\n",
    "    result = np.all(diag > off_diag)\n",
    "    return result\n",
    "\n",
    "#bikin function gaussedel\n",
    "def gauss_seidel(x, y, tol= 0.001, max_iter = 30):\n",
    "    # cek diagonal dominan tidk\n",
    "    if not diagonal_dominant(x):\n",
    "        print(\"Not Diagonal Dominant\")\n",
    "        return\n",
    "    \n",
    "    # array x sama y\n",
    "    x = np.array(x)\n",
    "    y = np.array(y)\n",
    "\n",
    "    # diagonal x\n",
    "    diag = np.diag(x)\n",
    "    x = -x\n",
    "    np.fill_diagonal(x, 0) # diagonal jadi 0 semua\n",
    "\n",
    "    old_res = np.zeros(len(x[0])) #bikin old result\n",
    "\n",
    "    # masuk looping\n",
    "    for i in range(max_iter):\n",
    "        # result baru array dari result lama\n",
    "        new_res = np.array(old_res) \n",
    "\n",
    "        for idx, row in enumerate(x):\n",
    "            # rumus dari gauss seidel\n",
    "            #result index idx = (y[idx]+dot product row, newRes) / diag index idx\n",
    "            new_res[idx] = (y[idx]+np.dot(row, new_res)) / diag[idx] \n",
    "\n",
    "        print(f\"iteration {i+1} : {new_res}\")\n",
    "\n",
    "        # hitung distance\n",
    "        distace = np.sqrt(np.dot(old_res - new_res, old_res-new_res))\n",
    "\n",
    "        if distace < tol:\n",
    "            print(\"Converge\")\n",
    "            return new_res\n",
    "        \n",
    "        old_res = new_res\n",
    "\n",
    "gauss_seidel(Xs, Ys)\n",
    "\n",
    "\n"
   ]
  },
  {
   "cell_type": "code",
   "execution_count": 10,
   "metadata": {},
   "outputs": [
    {
     "name": "stdout",
     "output_type": "stream",
     "text": [
      "iterartion 1 : [ 1.2   -1.06   2.744]\n",
      "iterartion 2 : [ 1.0316   -0.81928   2.715072]\n",
      "iterartion 3 : [ 1.0104208  -0.82640864  2.72639514]\n",
      "iterartion 4 : [ 1.01000135 -0.82536022  2.72614355]\n",
      "iterartion 5 : [ 1.00992167 -0.82540131  2.72619186]\n",
      "Converge\n"
     ]
    },
    {
     "data": {
      "text/plain": [
       "array([ 1.00992167, -0.82540131,  2.72619186])"
      ]
     },
     "execution_count": 10,
     "metadata": {},
     "output_type": "execute_result"
    }
   ],
   "source": [
    "Xs = [\n",
    "  [10, 1, 1],\n",
    "  [2, -10, 1],\n",
    "  [2, 2, 5]\n",
    "]\n",
    "Ys = [12, 13, 14]\n",
    "\n",
    "def diagonal_dominant(x):\n",
    "    x = np.array(x)\n",
    "    diag = np.diag(np.abs(x))\n",
    "    off_diag = np.sum(np.abs(x), axis=1) - diag\n",
    "    result = np.all(diag > off_diag)\n",
    "    return result\n",
    "\n",
    "def gauss_seidel(x, y, tol = 0.001, max_iter = 30):\n",
    "    if not diagonal_dominant(x):\n",
    "        print(\"Not Diagonal Dominant\")\n",
    "        return\n",
    "\n",
    "    x = np.array(x)\n",
    "    y = np.array(y)\n",
    "\n",
    "    diag = np.diag(x)\n",
    "    x = -x\n",
    "    np.fill_diagonal(x, 0)\n",
    "\n",
    "    old_res = np.zeros(len(x[0]))\n",
    "\n",
    "    for i in range(max_iter):\n",
    "        new_res = np.array(old_res)\n",
    "\n",
    "        for idx, row in enumerate(x):\n",
    "            new_res[idx] = (y[idx] + np.dot(row, new_res)) / diag[idx]\n",
    "\n",
    "        print(f\"iterartion {i+1} : {new_res}\")\n",
    "\n",
    "        distance = np.sqrt(np.dot(old_res-new_res, old_res-new_res))\n",
    "\n",
    "        if distance < tol:\n",
    "            print(\"Converge\")\n",
    "            return new_res\n",
    "    \n",
    "        old_res = new_res\n",
    "gauss_seidel(Xs, Ys)"
   ]
  }
 ],
 "metadata": {
  "kernelspec": {
   "display_name": "Python 3",
   "language": "python",
   "name": "python3"
  },
  "language_info": {
   "codemirror_mode": {
    "name": "ipython",
    "version": 3
   },
   "file_extension": ".py",
   "mimetype": "text/x-python",
   "name": "python",
   "nbconvert_exporter": "python",
   "pygments_lexer": "ipython3",
   "version": "3.12.4"
  }
 },
 "nbformat": 4,
 "nbformat_minor": 2
}
