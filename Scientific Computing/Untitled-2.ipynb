{
 "cells": [
  {
   "cell_type": "code",
   "execution_count": 2,
   "id": "8cc523ff",
   "metadata": {},
   "outputs": [],
   "source": [
    "import numpy as np\n",
    "import matplotlib.pyplot as plt"
   ]
  },
  {
   "cell_type": "code",
   "execution_count": 64,
   "id": "0c0b1d21",
   "metadata": {},
   "outputs": [
    {
     "name": "stdout",
     "output_type": "stream",
     "text": [
      "Matrix 1\n",
      "Iteration 1: [ 1.25        1.79166667 -0.16666667]\n",
      "Difference: 2.190969470855818\n",
      "Iteration 2: [0.39583333 2.01736111 0.07638889]\n",
      "Difference: 0.9163049054675799\n",
      "Iteration 3: [0.22222222 1.92476852 0.19502315]\n",
      "Difference: 0.22975703161001523\n",
      "Iteration 4: [0.23885995 1.86267843 0.2191358 ]\n",
      "Difference: 0.06865429955384911\n",
      "Iteration 5: [0.26387683 1.84645263 0.21682501]\n",
      "Difference: 0.029907537811802946\n",
      "Iteration 6: [0.27256744 1.84615959 0.21335044]\n",
      "Difference: 0.009364029799255288\n",
      "Converged\n",
      "\n",
      "Matrix 2\n",
      "Iteration 1: [ 1.75       -1.46428571 -0.95535714]\n",
      "Difference: 2.473729961711542\n",
      "Iteration 2: [ 0.81622024 -1.87064201 -0.36670033]\n",
      "Difference: 1.1762597197414264\n",
      "Iteration 3: [ 0.6282338  -1.72930955 -0.22959833]\n",
      "Difference: 0.2722328425469943\n",
      "Iteration 4: [ 0.7221029  -1.67672768 -0.28779591]\n",
      "Difference: 0.12232423662530427\n",
      "Iteration 5: [ 0.74792586 -1.68966656 -0.30608945]\n",
      "Difference: 0.034189089310782864\n",
      "Iteration 6: [ 0.73885372 -1.69618931 -0.30058492]\n",
      "Difference: 0.012455920767948117\n",
      "Converged\n",
      "\n",
      "Matrix 3\n",
      "Not Diagonal Dominant\n",
      "\n",
      "Matrix 4\n",
      "Iteration 1: [0.5    0.1875 0.    ]\n",
      "Difference: 0.5340002340823456\n",
      "Iteration 2: [0.47321429 0.19084821 0.01190476]\n",
      "Difference: 0.02950268436444472\n",
      "Iteration 3: [0.47188563 0.18506192 0.01514078]\n",
      "Difference: 0.006761537289335747\n",
      "Converged\n",
      "\n",
      "Matrix 5\n",
      "Not Diagonal Dominant\n",
      "\n"
     ]
    }
   ],
   "source": [
    "x = [\n",
    "    [\n",
    "        [8, 4, 2],\n",
    "        [1, 6, 3],\n",
    "        [5, 6, 12]\n",
    "    ],\n",
    "    [\n",
    "        [12, -7, -1],\n",
    "        [1, -7, 2],\n",
    "        [8, -1, 12]\n",
    "    ],\n",
    "    [\n",
    "        [4, 2, 7],\n",
    "        [3, -7, 5],\n",
    "        [2, -1, 3]\n",
    "    ],\n",
    "    [   \n",
    "        [14, 2, 1],\n",
    "        [1, 8, 4],\n",
    "        [9, 8, 18]\n",
    "    ],\n",
    "    [   \n",
    "        [1, 3, 6],\n",
    "        [9, 1, 12],\n",
    "        [15, 18, 1]\n",
    "    ]\n",
    "]\n",
    "y = [\n",
    "    [10, 12, 15],\n",
    "    [21, 12, 4],\n",
    "    [8, 4, 5],\n",
    "    [7, 2, 6],\n",
    "    [4, 7, 6]\n",
    "]\n",
    "\n",
    "def diagonal_dominant(x):\n",
    "    x = np.array(x)\n",
    "    diag = np.diag(np.abs(x))\n",
    "    off_diag = np.sum(np.abs(x), axis = 1) - diag\n",
    "    result = np.all(diag > off_diag)\n",
    "    return result\n",
    "\n",
    "def gauss_seidel(x, y, tol = 0.024, max_iter=20):\n",
    "    if not diagonal_dominant(x):\n",
    "        print(\"Not Diagonal Dominant\")\n",
    "        return\n",
    "    \n",
    "    x = np.array(x)\n",
    "    y = np.array(y)\n",
    "\n",
    "    diag = np.diag(x)\n",
    "    x = -x\n",
    "    np.fill_diagonal(x, 0)\n",
    "\n",
    "    old_res = np.zeros(len(x[0]))\n",
    "\n",
    "    for i in range(max_iter):\n",
    "        new_res = np.array(old_res)\n",
    "\n",
    "        for idx, row in enumerate(x):\n",
    "            new_res[idx] = (y[idx] + np.dot(row, new_res)) / diag[idx]\n",
    "\n",
    "        print(f\"Iteration {i+1}: {new_res}\")\n",
    "\n",
    "        distance = np.sqrt(np.dot(old_res-new_res, old_res-new_res))\n",
    "        print(f\"Difference: {distance}\")\n",
    "\n",
    "        if distance < tol:\n",
    "            print(\"Converged\")\n",
    "            return new_res\n",
    "        old_res = new_res\n",
    "\n",
    "for i in range(len(x)):\n",
    "    print(f\"Matrix {i+1}\")\n",
    "    gauss_seidel(x[i], y[i])\n",
    "    print(\"\")"
   ]
  },
  {
   "cell_type": "code",
   "execution_count": 69,
   "id": "fc26b7f2",
   "metadata": {},
   "outputs": [
    {
     "name": "stdout",
     "output_type": "stream",
     "text": [
      "Alpha: [[0.48639923]\n",
      " [4.95520808]]\n"
     ]
    },
    {
     "data": {
      "text/plain": [
       "<function matplotlib.pyplot.show(close=None, block=None)>"
      ]
     },
     "execution_count": 69,
     "metadata": {},
     "output_type": "execute_result"
    },
    {
     "data": {
      "image/png": "[encoded data removed]",
      "text/plain": [
       "<Figure size 640x480 with 1 Axes>"
      ]
     },
     "metadata": {},
     "output_type": "display_data"
    }
   ],
   "source": [
    "x = [1.00, 1.39, 1.78, 2.16, 2.55, 2.94, 3.33, 3.71, 4.10, 4.49, 4.88, 5.27, 5.65, 6.04, 6.43, 6.82, 7.20, 7.59, 7.98, 8.37, 8.76, 9.14, 9.53, 9.92, 10.31, 10.69, 11.08, 11.47, 11.86, 12.24, 12.63, 13.02, 13.41, 13.80, 14.18, 14.57, 14.96, 15.35, 15.73, 16.12, 16.51, 16.90, 17.29, 17.67, 18.06, 18.45, 18.84, 19.22, 19.61, 20.00]\n",
    "\n",
    "y = [5.97, 5.95, 6.13, 6.41, 6.57, 6.30, 5.31, 6.90, 7.30, 7.22, 6.15, 7.77, 7.84, 8.24, 7.05, 8.61, 8.83, 8.87, 8.67, 9.63, 8.24, 8.76, 9.06, 8.80, 10.88, 10.83, 9.71, 10.63, 11.33, 10.61, 12.04, 10.51, 12.20, 11.40, 11.07, 11.50, 12.98, 12.56, 12.44, 12.57, 12.36, 13.32, 14.22, 14.01, 14.42, 13.48, 15.14, 13.92, 13.97, 14.44]\n",
    "\n",
    "x = np.array(x)\n",
    "y = np.array(y)\n",
    "\n",
    "A = np.vstack([x, np.ones(len(x))]).T\n",
    "Y = y[:, np.newaxis]\n",
    "\n",
    "alpha = np.linalg.inv(np.dot(A.T, A))\n",
    "alpha = np.dot(alpha, A.T)\n",
    "alpha = np.dot(alpha, Y)\n",
    "\n",
    "print(f\"Alpha: {alpha}\")\n",
    "\n",
    "plt.plot(x, y, \"ro\")\n",
    "plt.plot(x, alpha[0]*x+alpha[1], \"b-\")\n",
    "plt.show"
   ]
  },
  {
   "cell_type": "code",
   "execution_count": 71,
   "id": "0d16e45f",
   "metadata": {},
   "outputs": [
    {
     "name": "stdout",
     "output_type": "stream",
     "text": [
      "iter 1 : 4.055760047751691\n",
      "iter 2 : 3.2995992993701333\n",
      "iter 3 : 2.691142040353687\n",
      "iter 4 : 2.1941206124780868\n",
      "iter 5 : 1.7693673505975802\n",
      "iter 6 : 1.3536896666513434\n",
      "iter 7 : 0.7335064821901164\n",
      "iter 8 : -1.3942760169601534\n",
      "iter 9 : -1.1029655134470373\n",
      "iter 10 : -0.9073243206569388\n",
      "iter 11 : -0.815342818303601\n",
      "iter 12 : -0.7972383775051456\n",
      "Found at root -0.7972383775051456\n"
     ]
    },
    {
     "data": {
      "text/plain": [
       "-0.7972383775051456"
      ]
     },
     "execution_count": 71,
     "metadata": {},
     "output_type": "execute_result"
    }
   ],
   "source": [
    "def f(x):\n",
    "    return 8*(x**5) - 10*(x**4) + (x**3) + 2*(x**2) + 9*x + 13\n",
    "\n",
    "def g(x):\n",
    "    return 40*(x**4) - 40*(x**3) + 3*(x**2) + 4*x + 9\n",
    "\n",
    "def newton_raphson(x, tol = 0.092, max_iter = 50):\n",
    "    found = False\n",
    "    for i in range(max_iter):\n",
    "        x  = x - (f(x)/g(x))\n",
    "        \n",
    "        print(f\"iter {i+1} : {x}\")\n",
    "        if np.abs(f(x)) < tol:\n",
    "            print(f\"Found at root {x}\")\n",
    "            found = True\n",
    "            return x \n",
    "        \n",
    "    if found == False:\n",
    "        print(\"error\")\n",
    "        return\n",
    "    \n",
    "\n",
    "newton_raphson(5)"
   ]
  },
  {
   "cell_type": "code",
   "execution_count": null,
   "id": "33d2afb4",
   "metadata": {},
   "outputs": [
    {
     "name": "stdout",
     "output_type": "stream",
     "text": [
      "[ 5.          5.00016667  5.00033334 ... 14.99966666 14.99983333\n",
      " 15.        ]\n",
      "Left Riemann: 5553584.111883503\n",
      "Right Riemann: 5553895.890413146\n",
      "Mid Riemann: 5553739.999425837\n"
     ]
    }
   ],
   "source": [
    "def f(x):\n",
    "    return 40*(x**4) - 40*(x**3) + 3*(x**2) + 4*x + 9\n",
    "\n",
    "a = 5\n",
    "b = 15\n",
    "points = 60000\n",
    "width = (b-a) / (points-1)\n",
    "x = np.linspace(a, b, points)\n",
    "print(x)\n",
    "\n",
    "leftRiemann = width * np.sum(f(x[:-1]))\n",
    "print(f\"Left Riemann: {leftRiemann}\")\n",
    "\n",
    "rightRiemann = width * np.sum(f(x[1:]))\n",
    "print(f\"Right Riemann: {rightRiemann}\")\n",
    "\n",
    "mid = (x[:-1] + x[1:]) / 2\n",
    "midRiemann = width * np.sum(f(mid))\n",
    "print(f\"Mid Riemann: {midRiemann}\")\n"
   ]
  }
 ],
 "metadata": {
  "kernelspec": {
   "display_name": "Python 3",
   "language": "python",
   "name": "python3"
  },
  "language_info": {
   "codemirror_mode": {
    "name": "ipython",
    "version": 3
   },
   "file_extension": ".py",
   "mimetype": "text/x-python",
   "name": "python",
   "nbconvert_exporter": "python",
   "pygments_lexer": "ipython3",
   "version": "3.12.4"
  }
 },
 "nbformat": 4,
 "nbformat_minor": 5
}
