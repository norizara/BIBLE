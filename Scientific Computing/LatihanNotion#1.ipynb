{
 "cells": [
  {
   "cell_type": "code",
   "execution_count": 1,
   "metadata": {},
   "outputs": [],
   "source": [
    "import numpy as np\n",
    "import matplotlib.pyplot as plt"
   ]
  },
  {
   "cell_type": "markdown",
   "metadata": {},
   "source": [
    "No 1 Linear Equation"
   ]
  },
  {
   "cell_type": "code",
   "execution_count": 9,
   "metadata": {},
   "outputs": [
    {
     "name": "stdout",
     "output_type": "stream",
     "text": [
      "Matrix 1\n",
      "iteration 1 = [ 1.25        1.79166667 -0.16666667]\n",
      "Diffrence : 2.190969470855818\n",
      "Not Converged\n",
      "iteration 2 = [0.39583333 2.01736111 0.07638889]\n",
      "Diffrence : 0.9163049054675799\n",
      "Not Converged\n",
      "iteration 3 = [0.22222222 1.92476852 0.19502315]\n",
      "Diffrence : 0.22975703161001523\n",
      "Not Converged\n",
      "iteration 4 = [0.23885995 1.86267843 0.2191358 ]\n",
      "Diffrence : 0.06865429955384911\n",
      "Not Converged\n",
      "iteration 5 = [0.26387683 1.84645263 0.21682501]\n",
      "Diffrence : 0.029907537811802946\n",
      "Converged\n",
      "\n",
      "Matrix 2\n",
      "iteration 1 = [ 1.75       -1.46428571 -0.95535714]\n",
      "Diffrence : 2.473729961711542\n",
      "Not Converged\n",
      "iteration 2 = [ 0.81622024 -1.87064201 -0.36670033]\n",
      "Diffrence : 1.1762597197414264\n",
      "Not Converged\n",
      "iteration 3 = [ 0.6282338  -1.72930955 -0.22959833]\n",
      "Diffrence : 0.2722328425469943\n",
      "Not Converged\n",
      "iteration 4 = [ 0.7221029  -1.67672768 -0.28779591]\n",
      "Diffrence : 0.12232423662530427\n",
      "Not Converged\n",
      "iteration 5 = [ 0.74792586 -1.68966656 -0.30608945]\n",
      "Diffrence : 0.034189089310782864\n",
      "Converged\n",
      "\n",
      "Matrix 3\n",
      "Not Diagonal\n",
      "\n",
      "Matrix 4\n",
      "iteration 1 = [0.5    0.1875 0.    ]\n",
      "Diffrence : 0.5340002340823456\n",
      "Not Converged\n",
      "iteration 2 = [0.47321429 0.19084821 0.01190476]\n",
      "Diffrence : 0.02950268436444472\n",
      "Converged\n",
      "\n",
      "Matrix 5\n",
      "Not Diagonal\n",
      "\n"
     ]
    }
   ],
   "source": [
    "x = [\n",
    "    [\n",
    "        [8, 4, 2],\n",
    "        [1, 6, 3],\n",
    "        [5, 6, 12]\n",
    "    ],\n",
    "    [\n",
    "        [12, -7, -1],\n",
    "        [1, -7, 2],\n",
    "        [8, -1, 12]\n",
    "    ],\n",
    "    [\n",
    "        [4, 2, 7],\n",
    "        [3, -7, 5],\n",
    "        [2, -1, 3]\n",
    "    ],\n",
    "    [   \n",
    "        [14, 2, 1],\n",
    "        [1, 8, 4],\n",
    "        [9, 8, 18]\n",
    "    ],\n",
    "    [   \n",
    "        [1, 3, 6],\n",
    "        [9, 1, 12],\n",
    "        [15, 18, 1]\n",
    "    ]\n",
    "]\n",
    "y = [\n",
    "    [10, 12, 15],\n",
    "    [21, 12, 4],\n",
    "    [8, 4, 5],\n",
    "    [7, 2, 6],\n",
    "    [4, 7, 6]\n",
    "]\n",
    "\n",
    "def diagonal_dominant(x):\n",
    "    x = np.array(x)\n",
    "    diag = np.diag(np.abs(x))\n",
    "    off_diag = np.sum(np.abs(x), axis = 1) - diag\n",
    "    result = np.all(diag > off_diag)\n",
    "    return result\n",
    "\n",
    "def gauss_seidel(x, y, tol =  0.044, max_iter =  20):\n",
    "    if not diagonal_dominant(x):\n",
    "        print(\"Not Diagonal\")\n",
    "        return\n",
    "    \n",
    "    x = np.array(x)\n",
    "    y = np.array(y)\n",
    "    \n",
    "    diag = np.diag(x)\n",
    "    x = -x\n",
    "    np.fill_diagonal(x, 0)\n",
    "\n",
    "    old_res = np.zeros(len(x[0]))\n",
    "    for i in range(max_iter):\n",
    "        new_res = np.array(old_res)\n",
    "\n",
    "        for idx, row in enumerate(x):\n",
    "            new_res[idx] = (y[idx] + np.dot(row, new_res)) / diag[idx]\n",
    "\n",
    "        print(f\"iteration {i+1} = {new_res}\")\n",
    "\n",
    "        distance = np.sqrt(np.dot(old_res-new_res, old_res-new_res))\n",
    "        print(f\"Diffrence : {distance}\")\n",
    "\n",
    "        if distance <  tol:\n",
    "            print(\"Converged\")\n",
    "            return new_res\n",
    "        else:\n",
    "            print(\"Not Converged\")\n",
    "        \n",
    "        old_res = new_res\n",
    "\n",
    "for i in range(len(x)):\n",
    "    print(f\"Matrix {i+1}\")\n",
    "    gauss_seidel(x[i], y[i])\n",
    "    print(\"\")"
   ]
  },
  {
   "cell_type": "markdown",
   "metadata": {},
   "source": [
    "No 2 - Regression"
   ]
  },
  {
   "cell_type": "code",
   "execution_count": 2,
   "metadata": {},
   "outputs": [
    {
     "name": "stdout",
     "output_type": "stream",
     "text": [
      "alpha : [[0.48639923]\n",
      " [4.95520808]]\n"
     ]
    },
    {
     "data": {
      "image/png": "[encoded data removed]",
      "text/plain": [
       "<Figure size 640x480 with 1 Axes>"
      ]
     },
     "metadata": {},
     "output_type": "display_data"
    }
   ],
   "source": [
    "x = [1.00, 1.39, 1.78, 2.16, 2.55, 2.94, 3.33, 3.71, 4.10, 4.49, 4.88, 5.27, 5.65, 6.04, 6.43, 6.82, 7.20, 7.59, 7.98, 8.37, 8.76, 9.14, 9.53, 9.92, 10.31, 10.69, 11.08, 11.47, 11.86, 12.24, 12.63, 13.02, 13.41, 13.80, 14.18, 14.57, 14.96, 15.35, 15.73, 16.12, 16.51, 16.90, 17.29, 17.67, 18.06, 18.45, 18.84, 19.22, 19.61, 20.00]\n",
    "\n",
    "y = [5.97, 5.95, 6.13, 6.41, 6.57, 6.30, 5.31, 6.90, 7.30, 7.22, 6.15, 7.77, 7.84, 8.24, 7.05, 8.61, 8.83, 8.87, 8.67, 9.63, 8.24, 8.76, 9.06, 8.80, 10.88, 10.83, 9.71, 10.63, 11.33, 10.61, 12.04, 10.51, 12.20, 11.40, 11.07, 11.50, 12.98, 12.56, 12.44, 12.57, 12.36, 13.32, 14.22, 14.01, 14.42, 13.48, 15.14, 13.92, 13.97, 14.44]\n",
    "\n",
    "x = np.array(x)\n",
    "y = np.array(y)\n",
    "\n",
    "A = np.vstack([x, np.ones(len(x))]).T # bikin v stack dl pokoknya trs one len\n",
    "Y = y[:, np.newaxis] #inget pake newaxs\n",
    "alpha = np.linalg.inv(np.dot(A.T, A)) # baru inverse\n",
    "alpha = np.dot(alpha, A.T)\n",
    "alpha = np.dot(alpha, Y)\n",
    "\n",
    "print(f\"alpha : {alpha}\") # buat nunjukin 'm' & 'c' (alpha[0] = m & alpha[1] = c)\n",
    "\n",
    "plt.plot(x, y, \"ro\")\n",
    "plt.plot(x, alpha[0] * x+ alpha[1], \"b-\")\n",
    "plt.show()"
   ]
  },
  {
   "cell_type": "markdown",
   "metadata": {},
   "source": [
    "no 3 - newton Raphson"
   ]
  },
  {
   "cell_type": "code",
   "execution_count": 9,
   "metadata": {},
   "outputs": [
    {
     "name": "stdout",
     "output_type": "stream",
     "text": [
      "Iteration 1 : 4.055760047751691\n",
      "Iteration 2 : 3.2995992993701333\n",
      "Iteration 3 : 2.691142040353687\n",
      "Iteration 4 : 2.1941206124780868\n",
      "Iteration 5 : 1.7693673505975802\n",
      "Iteration 6 : 1.3536896666513434\n",
      "Iteration 7 : 0.7335064821901164\n",
      "Iteration 8 : -1.3942760169601534\n",
      "Iteration 9 : -1.1029655134470373\n",
      "Iteration 10 : -0.9073243206569388\n",
      "Iteration 11 : -0.815342818303601\n",
      "Iteration 12 : -0.7972383775051456\n",
      "Found root at -0.7972383775051456\n",
      "0.026922346068094072\n"
     ]
    }
   ],
   "source": [
    "def f(x): \n",
    "    return 8 * (x**5) - 10 * (x**4) + (x ** 3) + 2 * (x**2) + 9*x + 13\n",
    "\n",
    "def g(x): \n",
    "    return 40 * (x**4) - 40 * (x ** 3) + 3 * (x**2) + 4*x + 9 \n",
    "\n",
    "def newton_raphson(x, tol = 0.031, max_iter = 50):\n",
    "    found = False\n",
    "    for i in range(max_iter):\n",
    "        x = x - (f(x)/g(x))\n",
    "        print(f\"Iteration {i+1} : {x}\")\n",
    "        if np.abs(f(x)) < tol:\n",
    "            print(f\"Found root at {x}\")\n",
    "            print(f\"{np.abs(f(x))}\")\n",
    "            found = True\n",
    "            return\n",
    "    if found == False:\n",
    "        print(\"Error , root not found\")\n",
    "\n",
    "newton_raphson(5)"
   ]
  }
 ],
 "metadata": {
  "kernelspec": {
   "display_name": "Python 3",
   "language": "python",
   "name": "python3"
  },
  "language_info": {
   "codemirror_mode": {
    "name": "ipython",
    "version": 3
   },
   "file_extension": ".py",
   "mimetype": "text/x-python",
   "name": "python",
   "nbconvert_exporter": "python",
   "pygments_lexer": "ipython3",
   "version": "3.12.4"
  }
 },
 "nbformat": 4,
 "nbformat_minor": 2
}
